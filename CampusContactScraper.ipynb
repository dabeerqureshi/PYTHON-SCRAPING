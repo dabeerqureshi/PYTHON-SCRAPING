{
 "cells": [
  {
   "cell_type": "markdown",
   "id": "85e8f24f",
   "metadata": {},
   "source": [
    "# CAMPUS CONTACT SCRAPER"
   ]
  },
  {
   "cell_type": "markdown",
   "id": "3c193ea5",
   "metadata": {},
   "source": [
    "A Python script using requests and BeautifulSoup to scrape and parse HTML content from web pages."
   ]
  },
  {
   "cell_type": "code",
   "execution_count": 29,
   "id": "e63e8253",
   "metadata": {},
   "outputs": [],
   "source": [
    "import requests\n",
    "from bs4 import BeautifulSoup\n",
    "import re"
   ]
  },
  {
   "cell_type": "markdown",
   "id": "b1b6f8c3",
   "metadata": {},
   "source": [
    "The function fetch_campus_contacts retrieves campus contact information from a given URL. It sends a GET request to the URL, parses the HTML content using BeautifulSoup, and extracts details such as campus names, locations, and contact numbers. It iterates through elements on the page to find campus details, handling cases where certain information might be missing. It uses regular expressions to refine the extraction of contact numbers. The function returns a list of dictionaries containing the extracted information for each campus. If the request fails, it prints a failure message and returns None.\n"
   ]
  },
  {
   "cell_type": "markdown",
   "id": "b800fdb0",
   "metadata": {},
   "source": [
    "# To construct the regular expression for Pakistani phone numbers:\n",
    "\n",
    "1. Begin with a non-capturing group (?:...) to encompass variations of the country code.\n",
    "2. Include (?:\\+|0{2})92 to match either the country code prefixed with a plus sign or '00' followed by '92'.\n",
    "3. Add an optional group for parentheses around the area code with \\(?\\d{3}\\)?.\n",
    "4. Include [\\s.-]? to match optional spaces, dots, or hyphens between number segments.\n",
    "5. Specify \\d{3} to match three digits for the area code.\n",
    "6. Add another optional separator with [\\s.-]?.\n",
    "7. Include \\d{4} to match four digits for the main phone number.\n",
    "8. Use re.findall() to search for all matching instances of this pattern in the text.\n",
    "\n",
    "\n",
    "\n"
   ]
  },
  {
   "cell_type": "code",
   "execution_count": 30,
   "id": "b1356403",
   "metadata": {},
   "outputs": [],
   "source": [
    "def fetch_campus_contacts(url):\n",
    "    # Send a GET request to the website\n",
    "    response = requests.get(url)\n",
    "    \n",
    "    # Check if the request was successful\n",
    "    if response.status_code == 200:\n",
    "        # Parse the HTML content of the page\n",
    "        soup = BeautifulSoup(response.text, 'html.parser')\n",
    "        \n",
    "        # Find all campus details\n",
    "        campus_contacts = []\n",
    "        \n",
    "        # Find all elements with campus details\n",
    "        campus_elements = soup.find_all('div', class_='col-md-4')\n",
    "            \n",
    "        # Extract campus names, locations, and contact numbers\n",
    "        for campus_element in campus_elements:\n",
    "            campus_name_element = campus_element.find('h4')\n",
    "            if campus_name_element:\n",
    "                campus_name = campus_name_element.text.strip()\n",
    "                \n",
    "                # Check if address element exists\n",
    "                address_element = campus_element.find('p')\n",
    "                campus_location = address_element.text.strip() if address_element else 'Location not available'\n",
    "                \n",
    "                # Find the detail div containing contact information\n",
    "                detail_div = campus_element.find('div', class_='detail')\n",
    "                if detail_div:\n",
    "                    # Extract text from detail div\n",
    "                    detail_text = detail_div.get_text(strip=True)\n",
    "                    \n",
    "                    # Extract phone numbers using refined regex\n",
    "                    contact_numbers = re.findall(r'(?:(?:\\+|0{2})92|\\(?\\d{3}\\)?)[\\s.-]?\\d{3}[\\s.-]?\\d{4}', detail_text)\n",
    "                    contact_numbers = ', '.join(contact_numbers)\n",
    "                else:\n",
    "                    contact_numbers = 'Contact number not available'\n",
    "                \n",
    "                campus_contacts.append({\n",
    "                    'name': campus_name,\n",
    "                    'location': campus_location,\n",
    "                    'contact': contact_numbers\n",
    "                })\n",
    "            else:\n",
    "                print(\"No campus name found for an element.\")\n",
    "        \n",
    "        return campus_contacts\n",
    "    else:\n",
    "        print(\"Failed to fetch the webpage.\")\n",
    "        return None\n"
   ]
  },
  {
   "cell_type": "markdown",
   "id": "cc6e1391",
   "metadata": {},
   "source": [
    "\n",
    "The provided code retrieves contact information for campuses from the National University (NU) website's \"Contact Us\" page. It utilizes the fetch_campus_contacts function to scrape the webpage, extracting campus names, locations, and contact numbers. Upon a successful extraction, it prints the details for each campus, including the name, location, and contact information. This code facilitates easy access to campus contacts for individuals interested in reaching out to different NU campuses, providing a convenient and organized display of the relevant information extracted from the website."
   ]
  },
  {
   "cell_type": "code",
   "execution_count": 31,
   "id": "9549729d",
   "metadata": {},
   "outputs": [
    {
     "name": "stdout",
     "output_type": "stream",
     "text": [
      "No campus name found for an element.\n",
      "Campus Contacts:\n",
      "Name: Islamabad Campus\n",
      "Location: A.K. Brohi Road, H-11/4\n",
      "Contact: (051) 831 4100, (051) 410 0619\n",
      "\n",
      "Name: Lahore Campus\n",
      "Location: Block-B, Faisal Town\n",
      "Contact: (042) 516 5680\n",
      "\n",
      "Name: Karachi City Campus\n",
      "Location: 22-G, Block-6,\n",
      "Contact: (021) 343 9094\n",
      "\n",
      "Name: Karachi Main Campus\n",
      "Location: Shah Latif Town (on National Highway)\n",
      "Contact: (021) 341 0054, (021) 341 0054\n",
      "\n",
      "Name: Peshawar Campus\n",
      "Location: 160, Industrial Estate, Jamrud Road\n",
      "Contact: 0334112812, 0335112812, 0336112812, (091) 582 2320\n",
      "\n",
      "Name: Chiniot - Faislabad Campus\n",
      "Location: Loonaywala Stop (9 Km from Motorway Interchange)\n",
      "Contact: (041) 260 7272\n",
      "\n",
      "Name: University Headoffice\n",
      "Location: FAST House, Rohtas Road, G-9/4\n",
      "Contact: (051) 2855072\n",
      "\n"
     ]
    }
   ],
   "source": [
    "url = 'https://www.nu.edu.pk/home/ContactUs'  # NU website contact us page URL\n",
    "campus_contacts = fetch_campus_contacts(url)\n",
    "if campus_contacts:\n",
    "    print(\"Campus Contacts:\")\n",
    "    for campus in campus_contacts:\n",
    "        print(f\"Name: {campus['name']}\")\n",
    "        print(f\"Location: {campus['location']}\")\n",
    "        print(f\"Contact: {campus['contact']}\")\n",
    "        print()\n"
   ]
  },
  {
   "cell_type": "markdown",
   "id": "491d7f12",
   "metadata": {},
   "source": [
    "# NOTE"
   ]
  },
  {
   "cell_type": "markdown",
   "id": "fa56f177",
   "metadata": {},
   "source": [
    "This Python script, named \"CampusContactScraper.py,\" is like a digital detective tasked with gathering contact details from the National University (NU) website's \"Contact Us\" page. It uses special tools called libraries to talk to the website and understand its language. Once it receives permission to access the website (status code 200), it starts examining the website's structure to find the information it needs.\n",
    "\n",
    "Imagine the webpage as a complex puzzle, with each piece containing details about different campuses. The script carefully searches through these pieces, known as HTML elements, to find the ones that hold the names, locations, and contact numbers of the campuses. It's like sifting through a stack of papers to find specific bits of information.\n",
    "\n",
    "For each campus it discovers, the script grabs the name and location, much like jotting down notes from a bulletin board. It then delves deeper to find the contact details. This part involves looking for a specific section on the webpage where the phone numbers are kept, a bit like finding a phonebook within a library. Once it locates this section, it uses a special technique called regular expressions to identify and extract the phone numbers, making sure to account for different formats they might appear in.\n",
    "\n",
    "As the script works its way through the webpage, it keeps track of all the campus details it finds, storing them neatly in a list. If it encounters any issues, like not being able to find a campus name, it lets us know so we can double-check.\n",
    "\n",
    "Once it's finished its investigation, the script checks to see if it managed to gather any contact information. If it did, it presents the findings in an easy-to-read format, almost like laying out a map with clear directions. For each campus it discovered, it lists out the name, location, and contact numbers so that anyone looking for this information can easily find it.\n",
    "\n",
    "In essence, this script acts as a helpful assistant, taking on the tedious task of collecting campus contact details from the NU website and presenting them in a user-friendly way. It's like having a reliable friend who knows just where to look for the information you need, saving you time and effort."
   ]
  }
 ],
 "metadata": {
  "kernelspec": {
   "display_name": "Python 3 (ipykernel)",
   "language": "python",
   "name": "python3"
  },
  "language_info": {
   "codemirror_mode": {
    "name": "ipython",
    "version": 3
   },
   "file_extension": ".py",
   "mimetype": "text/x-python",
   "name": "python",
   "nbconvert_exporter": "python",
   "pygments_lexer": "ipython3",
   "version": "3.11.5"
  }
 },
 "nbformat": 4,
 "nbformat_minor": 5
}
