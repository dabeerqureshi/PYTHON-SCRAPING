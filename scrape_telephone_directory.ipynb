{
 "cells": [
  {
   "cell_type": "markdown",
   "id": "5fda87c3",
   "metadata": {},
   "source": [
    "The script utilizes regular expressions, requests library, and BeautifulSoup to scrape a webpage, extract phone numbers, and display corresponding names and addresses."
   ]
  },
  {
   "cell_type": "code",
   "execution_count": 2,
   "id": "fa3141a6",
   "metadata": {},
   "outputs": [],
   "source": [
    "import re\n",
    "import requests\n",
    "from bs4 import BeautifulSoup"
   ]
  },
  {
   "cell_type": "markdown",
   "id": "f4ae07d2",
   "metadata": {},
   "source": [
    "The function scrapes a webpage, extracts information such as names, contact numbers, and addresses from a telephone directory table, and prints each entry along with its corresponding details, including phone numbers, using regular expressions.\n",
    "\n",
    "The re module in Python provides support for working with regular expressions, allowing users to search for patterns within strings, perform substitutions, and more. In the provided script, re.compile() is used to create a regular expression pattern that matches phone numbers with various formats such as \"123-456-7890\", \"123 456 7890\", \"123.456.7890\", etc. This pattern is then applied to the contact number field to extract phone numbers from each entry in the telephone directory."
   ]
  },
  {
   "cell_type": "code",
   "execution_count": 3,
   "id": "6a54ff1b",
   "metadata": {},
   "outputs": [],
   "source": [
    "def scrape_telephone_directory(url):\n",
    "    # Send a GET request to the URL\n",
    "    response = requests.get(url)\n",
    "    \n",
    "    # Check if the request was successful (status code 200)\n",
    "    if response.status_code == 200:\n",
    "        # Parse the HTML content\n",
    "        soup = BeautifulSoup(response.content, 'html.parser')\n",
    "        \n",
    "        # Find all <tr> tags within the table\n",
    "        rows = soup.find_all('tr')\n",
    "        \n",
    "        # Define a regular expression pattern for phone numbers\n",
    "        phone_number_pattern = re.compile(r'\\b\\d{3}[-.\\s]?\\d{3}[-.\\s]?\\d{4}\\b')\n",
    "        \n",
    "        # Loop through each row and extract data\n",
    "        for row in rows:\n",
    "            # Find all <td> tags within the row\n",
    "            columns = row.find_all('td')\n",
    "            # Check if there are exactly three columns (name, contact number, address)\n",
    "            if len(columns) == 3:\n",
    "                # Extract name, contact number, and address\n",
    "                name = columns[0].text.strip()\n",
    "                contact_number = columns[1].text.strip()\n",
    "                address = columns[2].text.strip()\n",
    "                # Find all phone numbers in the contact number field\n",
    "                phone_numbers = phone_number_pattern.findall(contact_number)\n",
    "                # Print or save the extracted data\n",
    "                for phone_number in phone_numbers:\n",
    "                    print(\"Name:\", name)\n",
    "                    print(\"Contact Number:\", phone_number)\n",
    "                    print(\"Address:\", address)\n",
    "                    print(\"------------\")\n",
    "    else:\n",
    "        print(\"Failed to retrieve the webpage.\")\n"
   ]
  },
  {
   "cell_type": "markdown",
   "id": "ce6098e5",
   "metadata": {},
   "source": [
    "This block of code ensures that the scrape_telephone_directory function is executed only when the script is run directly, setting the URL of the webpage to scrape and calling the function with that URL."
   ]
  },
  {
   "cell_type": "code",
   "execution_count": 4,
   "id": "9d0c2d78",
   "metadata": {},
   "outputs": [
    {
     "name": "stdout",
     "output_type": "stream",
     "text": [
      "Name: Chief Commissioner Office\n",
      "Contact Number: 051-9108312\n",
      "Address: ICT Administration Complex, Mauve Area, G-11/4, Islamabad\n",
      "------------\n",
      "Name: Islamabad Police\n",
      "Contact Number: 051-9258371\n",
      "Address: Police Lines Headquarters, H-11, Islamabad\n",
      "------------\n",
      "Name: Deputy Commissioner Office\n",
      "Contact Number: 051-9108108\n",
      "Address: ICT Administration Complex, Mauve Area, G-11/4, Islamabad\n",
      "------------\n",
      "Name: Deputy Commissioner Office\n",
      "Contact Number: 051-9108109\n",
      "Address: ICT Administration Complex, Mauve Area, G-11/4, Islamabad\n",
      "------------\n",
      "Name: Revenue Department\n",
      "Contact Number: 051-9262372\n",
      "Address: Plot No. 65, Near Honda Workshop, I-10/3, Islamabad\n",
      "------------\n",
      "Name: Labour Department\n",
      "Contact Number: 051-9108397\n",
      "Address: ICT Agriculture Complex, Mauve Area, G-11/4, Islamabad\n",
      "------------\n",
      "Name: Cooperative Societies Department\n",
      "Contact Number: 051-9261239\n",
      "Address: F-8 Markaz, Islamabad\n",
      "------------\n",
      "Name: Civil Defense Department\n",
      "Contact Number: 051-9160778\n",
      "Address: F-8 Markaz, Islamabad\n",
      "------------\n",
      "Name: Excise & Taxation Department\n",
      "Contact Number: 051-9265598\n",
      "Address: H-9, Islamabad\n",
      "------------\n",
      "Name: Agriculture Department\n",
      "Contact Number: 051-9108385\n",
      "Address: ICT Agriculture Complex, Mauve Area, G-11/4, Islamabad\n",
      "------------\n",
      "Name: Livestock & Dairy Development\n",
      "Contact Number: 051-9108384\n",
      "Address: ICT Agriculture Complex, Mauve Area, G-11/4, Islamabad\n",
      "------------\n",
      "Name: Water Management Department\n",
      "Contact Number: 051-9108386\n",
      "Address: ICT Agriculture Complex, Mauve Area, G-11/4, Islamabad\n",
      "------------\n",
      "Name: Soil Conservation Department\n",
      "Contact Number: 051-9108388\n",
      "Address: ICT Agriculture Complex, Mauve Area, G-11/4, Islamabad\n",
      "------------\n",
      "Name: Fisheries Department\n",
      "Contact Number: 051-9108386\n",
      "Address: Rawal Road, Main Rawal Dam, Islamabad.\n",
      "------------\n",
      "Name: Women Programme Officer\n",
      "Contact Number: 051-9260746\n",
      "Address: F-8 Markaz, Islamabad\n",
      "------------\n",
      "Name: Social Security Islamabad\n",
      "Contact Number: 051-4863980\n",
      "Address: Plot No. 27, Sector I-11/3, Faqeer Aipee Road, Islamabad\n",
      "------------\n",
      "Name: District Attorney\n",
      "Contact Number: 051-9261241\n",
      "Address: F-8 Markaz, Islamabad\n",
      "------------\n",
      "Name: District Polio Control Room (ICT)\n",
      "Contact Number: 051-9108070\n",
      "Address: ICT Administration Complex, Mauve Area, G-11/4, Islamabad\n",
      "------------\n"
     ]
    }
   ],
   "source": [
    "if __name__ == \"__main__\":\n",
    "    url = \"https://ictadministration.gov.pk/telephone-directory/\"\n",
    "    scrape_telephone_directory(url)\n"
   ]
  },
  {
   "cell_type": "markdown",
   "id": "af7eb989",
   "metadata": {},
   "source": [
    "This Python code defines a function named scrape_telephone_directory that retrieves the HTML content of a webpage specified by the URL parameter using the requests library. It then parses the HTML content using BeautifulSoup, searching for all <tr> tags representing rows in a table. Within each row, it extracts data such as name, contact number, and address, utilizing a regular expression pattern to find phone numbers. For each entry, it prints the name, contact number, and address, along with the corresponding phone numbers found in the contact number field. The if __name__ == \"__main__\": block ensures that the function is executed only when the script is run directly, setting the URL of the webpage to scrape and calling the scrape_telephone_directory function with that URL."
   ]
  },
  {
   "cell_type": "code",
   "execution_count": null,
   "id": "df0192b1",
   "metadata": {},
   "outputs": [],
   "source": []
  }
 ],
 "metadata": {
  "kernelspec": {
   "display_name": "Python 3 (ipykernel)",
   "language": "python",
   "name": "python3"
  },
  "language_info": {
   "codemirror_mode": {
    "name": "ipython",
    "version": 3
   },
   "file_extension": ".py",
   "mimetype": "text/x-python",
   "name": "python",
   "nbconvert_exporter": "python",
   "pygments_lexer": "ipython3",
   "version": "3.11.5"
  }
 },
 "nbformat": 4,
 "nbformat_minor": 5
}
